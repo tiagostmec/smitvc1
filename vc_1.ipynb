{
 "cells": [
  {
   "cell_type": "code",
   "execution_count": 15,
   "metadata": {},
   "outputs": [],
   "source": [
    "import numpy as np\n",
    "import cv2"
   ]
  },
  {
   "cell_type": "markdown",
   "metadata": {},
   "source": [
    "Essa célula abaixo irá importar a imagem em questão usando opencv2\n",
    "Começaremos com a imagem da bola de tenis\n",
    "# ![Tenis](tenis.jpg)"
   ]
  },
  {
   "cell_type": "code",
   "execution_count": 16,
   "metadata": {},
   "outputs": [],
   "source": [
    "image = cv2.imread('C:/Users/thn/Documents/splitSMIT/Aulas 1/vc/tenis.jpg')\n"
   ]
  },
  {
   "cell_type": "markdown",
   "metadata": {},
   "source": [
    "Abaixo a célula converte a imagem RGB para HSV. \n",
    "A etapa de segmentação pode ser obtida através do sistema de cores Red Green Blue (RGB), sendo-as convertidas para espaço\n",
    "de cores HSV. Vale ressaltar que o RGB representa luzes como uma composição das luzes primárias vermelho, verde e azul. \n",
    "Já o modelo HSV representa as mesmas cores através da matriz, saturação e brilho. Segundo cone abaixo.\n",
    "\n",
    "# ![HSV](HSV.png)"
   ]
  },
  {
   "cell_type": "markdown",
   "metadata": {},
   "source": [
    "Matiz (tonalidade): Verifica o tipo de cor, abrangendo todas as cores do espectro, desde o vermelho até o violeta, mais o magenta. Atinge valores de 0 a 360, mas para algumas aplicações, esse valor é normalizado de 0 a 100%.\n",
    "\n",
    "Saturação: Também chamado de \"pureza\". Quanto menor esse valor, mais com tom de cinza aparecerá a imagem. Quanto maior o valor, mais \"pura\" é a imagem. Atinge valores de 0 a 100%.\n",
    "\n",
    "Valor (brilho): Define o brilho da cor. Atinge valores de 0 a 100%.\n",
    "\n",
    "Trocando as váriaveis lower e upper podemos variar os valores de HSV de um \"RANGE\" para tentar filtrar a cor que queremos.\n",
    "https://www.rapidtables.com/convert/color/rgb-to-hsv.html\n",
    "\n",
    "# ![outro](TSKh8.png)"
   ]
  },
  {
   "cell_type": "code",
   "execution_count": 19,
   "metadata": {},
   "outputs": [],
   "source": [
    "hsv = cv2.cvtColor(image, cv2.COLOR_RGB2HSV)\n",
    "                \n",
    "###################### ETAPA DE CLASSIFICAÇÃO DA IMAGEM - CRIAÇÃO DAS MÁSCARAS BINÁRIAS ########################################\n",
    "lower = np.array([50, 100, 100]) \n",
    "upper = np.array([90, 255,255])\n",
    "                \n",
    "####################### A IMAGEM EM HSV É PASSADA PELA ETAPA DE CLASSIFICÃO GERANDO UMA SEGMENTAçAO ######################\n",
    "mask = cv2.inRange(hsv, lower, upper) "
   ]
  },
  {
   "cell_type": "markdown",
   "metadata": {},
   "source": [
    "Abaixo podemos então finalmente plotar a mascara em questão"
   ]
  },
  {
   "cell_type": "code",
   "execution_count": 20,
   "metadata": {},
   "outputs": [
    {
     "data": {
      "text/plain": [
       "-1"
      ]
     },
     "execution_count": 20,
     "metadata": {},
     "output_type": "execute_result"
    }
   ],
   "source": [
    "cv2.imshow('Teste', mask)\n",
    "cv2.waitKey(0)"
   ]
  },
  {
   "cell_type": "markdown",
   "metadata": {},
   "source": [
    "Pontos fracos. Iluminação pode ser um problema. Variação gritante de cores em ambiente não controlado pode gerar outliers.\n",
    "\n",
    "Abaixo podemos usar essa segmentação para encontrar pontos importantes de imagem.\n",
    "Centroide abaixo."
   ]
  },
  {
   "cell_type": "code",
   "execution_count": 6,
   "metadata": {},
   "outputs": [
    {
     "data": {
      "text/plain": [
       "-1"
      ]
     },
     "execution_count": 6,
     "metadata": {},
     "output_type": "execute_result"
    }
   ],
   "source": [
    "M = cv2.moments(mask)\n",
    "\n",
    "\n",
    "##################################################### CÁLCULO DOS CENTRÓIDES #######\n",
    "cx = int(M['m10']/M['m00'])\n",
    "cy = int(M['m01']/M['m00'])\n",
    "cv2.circle(image, (cx, cy), 5, (0,0,255), -1)\n",
    "cv2.imshow('Centroide', image)\n",
    "cv2.waitKey(0)"
   ]
  }
 ],
 "metadata": {
  "kernelspec": {
   "display_name": "Python 3",
   "language": "python",
   "name": "python3"
  },
  "language_info": {
   "codemirror_mode": {
    "name": "ipython",
    "version": 3
   },
   "file_extension": ".py",
   "mimetype": "text/x-python",
   "name": "python",
   "nbconvert_exporter": "python",
   "pygments_lexer": "ipython3",
   "version": "3.10.11"
  },
  "orig_nbformat": 4
 },
 "nbformat": 4,
 "nbformat_minor": 2
}
